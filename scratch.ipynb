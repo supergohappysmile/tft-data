{
 "cells": [
  {
   "cell_type": "code",
   "execution_count": 6,
   "id": "3754a1ac",
   "metadata": {},
   "outputs": [
    {
     "data": {
      "text/plain": [
       "{'API_KEY': 'RGAPI-0feb50b1-fc72-4209-85cb-2f8172b4e221',\n",
       " 'gameName': 'areanyaaaa',\n",
       " 'tagLine': 'pfp',\n",
       " 'region': 'na1'}"
      ]
     },
     "execution_count": 6,
     "metadata": {},
     "output_type": "execute_result"
    }
   ],
   "source": [
    "import requests, pandas as pd, numpy as np\n",
    "import csv\n",
    "import time\n",
    "import urllib.parse\n",
    "\n",
    "def read_secrets(file_path):\n",
    "    with open(file_path) as f:\n",
    "        return {\n",
    "            line.split('=', 1)[0].strip(): line.split('=', 1)[1].strip()\n",
    "            for line in f\n",
    "            if '=' in line and not line.strip().startswith('#') and line.strip()\n",
    "        }\n",
    "\n",
    "# Example usage\n",
    "secret = read_secrets('.env')\n",
    "secret\n"
   ]
  },
  {
   "cell_type": "code",
   "execution_count": 7,
   "id": "213d96a8",
   "metadata": {},
   "outputs": [
    {
     "name": "stdout",
     "output_type": "stream",
     "text": [
      "[Error] get_summoner_by_name: 403 {\"status\":{\"message\":\"Forbidden\",\"status_code\":403}}\n",
      "<built-in function sum>\n"
     ]
    },
    {
     "ename": "TypeError",
     "evalue": "'NoneType' object is not subscriptable",
     "output_type": "error",
     "traceback": [
      "\u001b[31m---------------------------------------------------------------------------\u001b[39m",
      "\u001b[31mTypeError\u001b[39m                                 Traceback (most recent call last)",
      "\u001b[36mCell\u001b[39m\u001b[36m \u001b[39m\u001b[32mIn[7]\u001b[39m\u001b[32m, line 62\u001b[39m\n\u001b[32m     60\u001b[39m     exit(\u001b[33m\"\u001b[39m\u001b[33mCould not retrieve initial summoner.\u001b[39m\u001b[33m\"\u001b[39m)\n\u001b[32m     61\u001b[39m     \u001b[38;5;28mprint\u001b[39m(\u001b[38;5;28msum\u001b[39m)\n\u001b[32m---> \u001b[39m\u001b[32m62\u001b[39m puuid = \u001b[43msummoner\u001b[49m\u001b[43m[\u001b[49m\u001b[33;43m\"\u001b[39;49m\u001b[33;43mpuuid\u001b[39;49m\u001b[33;43m\"\u001b[39;49m\u001b[43m]\u001b[49m\n\u001b[32m     63\u001b[39m seen_puuids.add(puuid)\n\u001b[32m     64\u001b[39m queue.append(puuid)\n",
      "\u001b[31mTypeError\u001b[39m: 'NoneType' object is not subscriptable"
     ]
    }
   ],
   "source": [
    "# --- Your secrets ---\n",
    "RIOT_API_KEY = secret['API_KEY']\n",
    "gameName = secret['gameName']\n",
    "tagLine = secret['tagLine']\n",
    "region = secret['region']\n",
    "\n",
    "# --- Headers ---\n",
    "HEADERS = {\"X-Riot-Token\": RIOT_API_KEY}\n",
    "\n",
    "# --- CSV Setup ---\n",
    "csv_file = open(\"tft_match_data.csv\", mode=\"w\", newline=\"\", encoding=\"utf-8\")\n",
    "csv_writer = csv.DictWriter(csv_file, fieldnames=[\"puuid\", \"gameName\", \"tagLine\", \"summonerLevel\", \"match_id\"])\n",
    "csv_writer.writeheader()\n",
    "\n",
    "# --- Helper Functions ---\n",
    "def get_summoner_by_name(name):\n",
    "    encoded_name = urllib.parse.quote(name)\n",
    "    url = f\"https://na1.api.riotgames.com/tft/summoner/v1/summoners/by-name/{encoded_name}\"\n",
    "    r = requests.get(url, headers=HEADERS)\n",
    "    if r.status_code == 200:\n",
    "        return r.json()\n",
    "    else:\n",
    "        print(f\"[Error] get_summoner_by_name: {r.status_code} {r.text}\")\n",
    "        return None\n",
    "\n",
    "def get_account_by_puuid(puuid):\n",
    "    url = f\"https://americas.api.riotgames.com/riot/account/v1/accounts/by-puuid/{puuid}\"\n",
    "    r = requests.get(url, headers=HEADERS)\n",
    "    if r.status_code == 200:\n",
    "        return r.json()\n",
    "    else:\n",
    "        print(f\"[Error] get_account_by_puuid: {r.status_code} {r.text}\")\n",
    "        return None\n",
    "\n",
    "def get_match_ids_by_puuid(puuid, count=5):\n",
    "    url = f\"https://americas.api.riotgames.com/tft/match/v1/matches/by-puuid/{puuid}/ids?count={count}\"\n",
    "    r = requests.get(url, headers=HEADERS)\n",
    "    if r.status_code == 200:\n",
    "        return r.json()\n",
    "    else:\n",
    "        print(f\"[Error] get_match_ids_by_puuid: {r.status_code} {r.text}\")\n",
    "        return []\n",
    "\n",
    "def get_match_details(match_id):\n",
    "    url = f\"https://americas.api.riotgames.com/tft/match/v1/matches/{match_id}\"\n",
    "    r = requests.get(url, headers=HEADERS)\n",
    "    if r.status_code == 200:\n",
    "        return r.json()\n",
    "    else:\n",
    "        print(f\"[Error] get_match_details: {r.status_code} {r.text}\")\n",
    "        return None\n",
    "\n",
    "# --- Start Process ---\n",
    "seen_puuids = set()\n",
    "queue = []\n",
    "\n",
    "# Step 1: Get initial summoner\n",
    "summoner = get_summoner_by_name(gameName)\n",
    "if not summoner:\n",
    "    exit(\"Could not retrieve initial summoner.\")\n",
    "    print(sum)\n",
    "puuid = summoner[\"puuid\"]\n",
    "seen_puuids.add(puuid)\n",
    "queue.append(puuid)\n",
    "\n",
    "# Breadth-first loop through PUUIDs\n",
    "while queue:\n",
    "    current_puuid = queue.pop(0)\n",
    "    match_ids = get_match_ids_by_puuid(current_puuid, count=5)\n",
    "\n",
    "    for match_id in match_ids:\n",
    "        match_data = get_match_details(match_id)\n",
    "        if not match_data:\n",
    "            continue\n",
    "        participants = match_data.get(\"metadata\", {}).get(\"participants\", [])\n",
    "        \n",
    "        for p_puuid in participants:\n",
    "            if p_puuid not in seen_puuids:\n",
    "                seen_puuids.add(p_puuid)\n",
    "                queue.append(p_puuid)\n",
    "\n",
    "            account_info = get_account_by_puuid(p_puuid)\n",
    "            if not account_info:\n",
    "                continue\n",
    "\n",
    "            summoner_info = get_summoner_by_name(account_info[\"gameName\"])\n",
    "            if not summoner_info:\n",
    "                continue\n",
    "\n",
    "            # Save data to CSV\n",
    "            csv_writer.writerow({\n",
    "                \"puuid\": p_puuid,\n",
    "                \"gameName\": account_info[\"gameName\"],\n",
    "                \"tagLine\": account_info[\"tagLine\"],\n",
    "                \"summonerLevel\": summoner_info[\"summonerLevel\"],\n",
    "                \"match_id\": match_id\n",
    "            })\n",
    "\n",
    "        time.sleep(1.2)  # rate limiting\n",
    "\n",
    "csv_file.close()\n",
    "print(\"✅ Done. Data saved to 'tft_match_data.csv'\")\n"
   ]
  },
  {
   "cell_type": "code",
   "execution_count": null,
   "id": "3d3681d0",
   "metadata": {},
   "outputs": [],
   "source": []
  }
 ],
 "metadata": {
  "kernelspec": {
   "display_name": "PLEASE DO SOMETHING DIFFERENT",
   "language": "python",
   "name": "test"
  },
  "language_info": {
   "codemirror_mode": {
    "name": "ipython",
    "version": 3
   },
   "file_extension": ".py",
   "mimetype": "text/x-python",
   "name": "python",
   "nbconvert_exporter": "python",
   "pygments_lexer": "ipython3",
   "version": "3.13.undefined"
  }
 },
 "nbformat": 4,
 "nbformat_minor": 5
}
