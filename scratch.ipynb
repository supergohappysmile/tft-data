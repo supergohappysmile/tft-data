{
 "cells": [
  {
   "cell_type": "code",
   "execution_count": 81,
   "id": "3754a1ac",
   "metadata": {},
   "outputs": [
    {
     "data": {
      "text/plain": [
       "{'API_KEY': 'RGAPI-c9310dba-2d50-4411-8056-9daac8668e63',\n",
       " 'gameName': 'areanyaaaa',\n",
       " 'tagLine': 'pfp',\n",
       " 'region': 'americas'}"
      ]
     },
     "execution_count": 81,
     "metadata": {},
     "output_type": "execute_result"
    }
   ],
   "source": [
    "import requests, pandas as pd, numpy as np\n",
    "import csv\n",
    "import time\n",
    "import urllib.parse\n",
    "#API_KEY=\n",
    "#gameName=\n",
    "#tagLine=\n",
    "#region=\n",
    "def read_secrets(file_path):\n",
    "    with open(file_path) as f:\n",
    "        return {\n",
    "            line.split('=', 1)[0].strip(): line.split('=', 1)[1].strip()\n",
    "            for line in f\n",
    "            if '=' in line and not line.strip().startswith('#') and line.strip()\n",
    "        }\n",
    "\n",
    "# Example usage\n",
    "secret = read_secrets('.env')\n",
    "# --- Your secrets ---\n",
    "API_KEY = secret['API_KEY']\n",
    "gameName = secret['gameName']\n",
    "tagLine = secret['tagLine']\n",
    "region = secret['region']\n",
    "\n",
    "# --- Headers ---\n",
    "HEADERS = {\n",
    "    \"User-Agent\": \"Mozilla/5.0 (Windows NT 10.0; Win64; x64) AppleWebKit/537.36 (KHTML, like Gecko) Chrome/138.0.0.0 Safari/537.36\",\n",
    "    \"Accept-Language\": \"en-US,en;q=0.8\",\n",
    "    \"Accept-Charset\": \"application/x-www-form-urlencoded; charset=UTF-8\",\n",
    "    \"Origin\": \"https://developer.riotgames.com\",\n",
    "    \"X-Riot-Token\": API_KEY\n",
    "    }\n",
    "\n",
    "\n",
    "secret\n"
   ]
  },
  {
   "cell_type": "code",
   "execution_count": 82,
   "id": "c1c1bb77",
   "metadata": {},
   "outputs": [],
   "source": [
    "def get_puuid_by_riot_id(region, gameName,tagLine, HEADERS):\n",
    "    url = f\"https://{region}.api.riotgames.com/riot/account/v1/accounts/by-riot-id/{gameName}/{tagLine}\"\n",
    "    r = requests.get(url, headers=HEADERS)\n",
    "    if r.status_code == 200:\n",
    "        return r.json()\n",
    "    else:\n",
    "        return f\"[Error] get_summoner_by_name: {r.status_code} {r.text}\""
   ]
  },
  {
   "cell_type": "code",
   "execution_count": 83,
   "id": "95d27ec2",
   "metadata": {},
   "outputs": [
    {
     "data": {
      "text/plain": [
       "'dY1iOMlz4B5hASgR0lrkJbswM6aYq7viNgjAIkM6XJhAviNcCLX5xj9HRgImWCWCgLzmfW3fLCIVUA'"
      ]
     },
     "execution_count": 83,
     "metadata": {},
     "output_type": "execute_result"
    }
   ],
   "source": [
    "response = get_puuid_by_riot_id(region,gameName,tagLine,HEADERS)\n",
    "puuid = response['puuid']\n",
    "puuid"
   ]
  },
  {
   "cell_type": "code",
   "execution_count": 84,
   "id": "84784ae1",
   "metadata": {},
   "outputs": [],
   "source": [
    "def get_account_by_puuid(region, puuid, HEADERS):\n",
    "    url = f\"https://{region}.api.riotgames.com/riot/account/v1/accounts/by-puuid/{puuid}\"\n",
    "    r = requests.get(url, headers=HEADERS)\n",
    "    if r.status_code == 200:\n",
    "        return r.json()\n",
    "    else:\n",
    "        return f\"[Error] get_account_by_puuid: {r.status_code} {r.text}\"\n"
   ]
  },
  {
   "cell_type": "code",
   "execution_count": 85,
   "id": "8668a464",
   "metadata": {},
   "outputs": [
    {
     "data": {
      "text/plain": [
       "{'puuid': 'dY1iOMlz4B5hASgR0lrkJbswM6aYq7viNgjAIkM6XJhAviNcCLX5xj9HRgImWCWCgLzmfW3fLCIVUA',\n",
       " 'gameName': 'areanyaaaa',\n",
       " 'tagLine': 'pfp'}"
      ]
     },
     "execution_count": 85,
     "metadata": {},
     "output_type": "execute_result"
    }
   ],
   "source": [
    "get_account_by_puuid(region,puuid,HEADERS)"
   ]
  },
  {
   "cell_type": "code",
   "execution_count": 86,
   "id": "203ea2c0",
   "metadata": {},
   "outputs": [],
   "source": [
    "import requests\n",
    "\n",
    "def get_tft_match_ids_by_puuid(region, puuid, HEADERS, count=20):\n",
    "    url = f\"https://{region}.api.riotgames.com/tft/match/v1/matches/by-puuid/{puuid}/ids?count={count}\"\n",
    "    r = requests.get(url, headers=HEADERS)\n",
    "    if r.status_code == 200:\n",
    "        return r.json()\n",
    "    else:\n",
    "        return f\"[Error] get_tft_match_ids_by_puuid: {r.status_code} {r.text}\"\n"
   ]
  },
  {
   "cell_type": "code",
   "execution_count": 89,
   "id": "21f44407",
   "metadata": {},
   "outputs": [],
   "source": [
    "listtOfMatches = get_tft_match_ids_by_puuid(region, puuid, HEADERS, count=20)"
   ]
  },
  {
   "cell_type": "code",
   "execution_count": null,
   "id": "085ce742",
   "metadata": {},
   "outputs": [],
   "source": [
    "def get_tft_match_by_id(region, matchId, HEADERS):\n",
    "    url = f\"https://{region}.api.riotgames.com/tft/match/v1/matches/{matchId}\"\n",
    "    r = requests.get(url, headers=HEADERS)\n",
    "    if r.status_code == 200:\n",
    "        return r.json()\n",
    "    else:\n",
    "        return f\"[Error] get_tft_match_by_id: {r.status_code} {r.text}\"\n"
   ]
  },
  {
   "cell_type": "code",
   "execution_count": null,
   "id": "0741af66",
   "metadata": {},
   "outputs": [],
   "source": []
  },
  {
   "cell_type": "code",
   "execution_count": null,
   "id": "3d3681d0",
   "metadata": {},
   "outputs": [],
   "source": [
    "\n",
    "# # --- Start Process ---\n",
    "# seen_puuids = set()\n",
    "# queue = []\n",
    "\n",
    "# # Step 1: Get initial summoner\n",
    "# summoner = get_summoner_by_name(gameName)\n",
    "# if not summoner:\n",
    "#     exit(\"Could not retrieve initial summoner.\")\n",
    "#     print(sum)\n",
    "# puuid = summoner[\"puuid\"]\n",
    "# seen_puuids.add(puuid)\n",
    "# queue.append(puuid)\n",
    "\n",
    "# # Breadth-first loop through PUUIDs\n",
    "# while queue:\n",
    "#     current_puuid = queue.pop(0)\n",
    "#     match_ids = get_match_ids_by_puuid(current_puuid, count=5)\n",
    "\n",
    "#     for match_id in match_ids:\n",
    "#         match_data = get_match_details(match_id)\n",
    "#         if not match_data:\n",
    "#             continue\n",
    "#         participants = match_data.get(\"metadata\", {}).get(\"participants\", [])\n",
    "        \n",
    "#         for p_puuid in participants:\n",
    "#             if p_puuid not in seen_puuids:\n",
    "#                 seen_puuids.add(p_puuid)\n",
    "#                 queue.append(p_puuid)\n",
    "\n",
    "#             account_info = get_account_by_puuid(p_puuid)\n",
    "#             if not account_info:\n",
    "#                 continue\n",
    "\n",
    "#             summoner_info = get_summoner_by_name(account_info[\"gameName\"])\n",
    "#             if not summoner_info:\n",
    "#                 continue\n",
    "\n",
    "#             # Save data to CSV\n",
    "#             csv_writer.writerow({\n",
    "#                 \"puuid\": p_puuid,\n",
    "#                 \"gameName\": account_info[\"gameName\"],\n",
    "#                 \"tagLine\": account_info[\"tagLine\"],\n",
    "#                 \"summonerLevel\": summoner_info[\"summonerLevel\"],\n",
    "#                 \"match_id\": match_id\n",
    "#             })\n",
    "\n",
    "#         time.sleep(1.2)  # rate limiting\n",
    "\n",
    "# csv_file.close()\n",
    "# print(\"✅ Done. Data saved to 'tft_match_data.csv'\")\n"
   ]
  }
 ],
 "metadata": {
  "kernelspec": {
   "display_name": "select this one for tft data",
   "language": "python",
   "name": "test"
  },
  "language_info": {
   "codemirror_mode": {
    "name": "ipython",
    "version": 3
   },
   "file_extension": ".py",
   "mimetype": "text/x-python",
   "name": "python",
   "nbconvert_exporter": "python",
   "pygments_lexer": "ipython3",
   "version": "3.13.5"
  }
 },
 "nbformat": 4,
 "nbformat_minor": 5
}
